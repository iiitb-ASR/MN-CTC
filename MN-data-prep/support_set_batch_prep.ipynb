{
 "cells": [
  {
   "cell_type": "markdown",
   "metadata": {},
   "source": [
    "# Create Train,Dev and Test support-set and batch/query set for MN+CTC training and inference"
   ]
  },
  {
   "cell_type": "code",
   "execution_count": 24,
   "metadata": {},
   "outputs": [],
   "source": [
    "import json\n",
    "import pickle\n",
    "import os\n",
    "import kaldiio\n",
    "import numpy as np\n",
    "import matplotlib.pyplot as plt\n",
    "import itertools\n",
    "import timeit\n",
    "from jiwer import wer\n",
    "import editdistance as ed\n",
    "\n",
    "from torch.utils import data\n",
    "import torch\n",
    "import torch.nn as nn\n",
    "\n",
    "import torch.nn.functional as F\n",
    "import torch.optim as optim\n",
    "from torch.nn.utils.rnn import pack_padded_sequence, pad_packed_sequence\n",
    "from torch.autograd import Variable\n",
    "from torch.utils.data import TensorDataset, DataLoader"
   ]
  },
  {
   "cell_type": "code",
   "execution_count": 25,
   "metadata": {},
   "outputs": [
    {
     "name": "stdout",
     "output_type": "stream",
     "text": [
      "{'blank': 0, 'unk': 1, 'sil': 2, 'aa': 3, 'ae': 4, 'ah': 5, 'aw': 6, 'ay': 7, 'b': 8, 'ch': 9, 'd': 10, 'dh': 11, 'dx': 12, 'eh': 13, 'er': 14, 'ey': 15, 'f': 16, 'g': 17, 'hh': 18, 'ih': 19, 'iy': 20, 'jh': 21, 'k': 22, 'l': 23, 'm': 24, 'n': 25, 'ng': 26, 'ow': 27, 'oy': 28, 'p': 29, 'r': 30, 's': 31, 'sh': 32, 't': 33, 'th': 34, 'uh': 35, 'uw': 36, 'v': 37, 'w': 38, 'y': 39, 'z': 40}\n",
      "{0: 'blank', 1: 'unk', 2: 'sil', 3: 'aa', 4: 'ae', 5: 'ah', 6: 'aw', 7: 'ay', 8: 'b', 9: 'ch', 10: 'd', 11: 'dh', 12: 'dx', 13: 'eh', 14: 'er', 15: 'ey', 16: 'f', 17: 'g', 18: 'hh', 19: 'ih', 20: 'iy', 21: 'jh', 22: 'k', 23: 'l', 24: 'm', 25: 'n', 26: 'ng', 27: 'ow', 28: 'oy', 29: 'p', 30: 'r', 31: 's', 32: 'sh', 33: 't', 34: 'th', 35: 'uh', 36: 'uw', 37: 'v', 38: 'w', 39: 'y', 40: 'z'}\n",
      "Found\n",
      "['_', 'unk', 'sil', 'aa', 'ae', 'ah', 'aw', 'ay', 'b', 'ch', 'd', 'dh', 'dx', 'eh', 'er', 'ey', 'f', 'g', 'hh', 'ih', 'iy', 'jh', 'k', 'l', 'm', 'n', 'ng', 'ow', 'oy', 'p', 'r', 's', 'sh', 't', 'th', 'uh', 'uw', 'v', 'w', 'y', 'z']\n"
     ]
    }
   ],
   "source": [
    "# get all possible class labels\n",
    "with open(\"train_nodev_units.txt\", 'r') as f:\n",
    "  lines = f.readlines()\n",
    "lines = [ele.strip().split(' ') for ele in lines]\n",
    "lines[0] = ['unk','1']\n",
    "lines[1] = ['sil',' 2']\n",
    "\n",
    "class_index_dict = {\"blank\": 0}\n",
    "ctc_labels = []\n",
    "ctc_labels.append('_')\n",
    "\n",
    "for row in lines:\n",
    "    ctc_labels.append(row[0])\n",
    "    class_index_dict[row[0]] = int(row[1])\n",
    "\n",
    "class_label_dict = {0: \"blank\"}\n",
    "for row in lines:\n",
    "    class_label_dict[int(row[1])] = row[0]\n",
    "  \n",
    "print(class_index_dict)\n",
    "print(class_label_dict)\n",
    "if 'unk' in class_index_dict:\n",
    "  print(\"Found\")\n",
    "else: print(\"Not Found\")\n",
    "print(ctc_labels)"
   ]
  },
  {
   "cell_type": "markdown",
   "metadata": {},
   "source": [
    "# Neural-net architecture"
   ]
  },
  {
   "cell_type": "code",
   "execution_count": 26,
   "metadata": {},
   "outputs": [],
   "source": [
    "# Fully connected neural network with 4 hidden layer\n",
    "class NeuralNet(nn.Module):\n",
    "    def __init__(self):\n",
    "        super(NeuralNet, self).__init__()\n",
    "        \n",
    "        self.dnn_layer1 = nn.Sequential(\n",
    "            nn.Linear(429, 1024),\n",
    "            nn.ReLU(),\n",
    "            nn.BatchNorm1d(1024, eps=1e-05, momentum=0.05, affine=True, track_running_stats=True),\n",
    "            nn.Dropout(p=0.2, inplace=False)\n",
    "          )\n",
    "        \n",
    "        self.dnn_layer2 = nn.Sequential(\n",
    "            nn.Linear(1024, 1024),\n",
    "            nn.ReLU(),\n",
    "            nn.BatchNorm1d(1024, eps=1e-05, momentum=0.05, affine=True, track_running_stats=True),\n",
    "            nn.Dropout(p=0.2, inplace=False)\n",
    "          )\n",
    "        \n",
    "        self.dnn_layer3 = nn.Sequential(\n",
    "            nn.Linear(1024, 1024),\n",
    "            nn.ReLU(),\n",
    "            nn.BatchNorm1d(1024, eps=1e-05, momentum=0.05, affine=True, track_running_stats=True),\n",
    "            nn.Dropout(p=0.2, inplace=False)\n",
    "          )\n",
    "        \n",
    "        self.dnn_layer4 = nn.Sequential(\n",
    "            nn.Linear(1024, 1024),\n",
    "            nn.ReLU(),\n",
    "            nn.BatchNorm1d(1024, eps=1e-05, momentum=0.05, affine=True, track_running_stats=True),\n",
    "            nn.Dropout(p=0.2, inplace=False)\n",
    "          )\n",
    "        \n",
    "        self.dnn_layer5 = nn.Sequential(\n",
    "            nn.Linear(1024, 41)\n",
    "          )\n",
    "        self.log_softmax = nn.LogSoftmax(dim=1)\n",
    "          \n",
    "    def forward(self, x):\n",
    "        x = self.dnn_layer1(x)\n",
    "        x = self.dnn_layer2(x)\n",
    "        x = self.dnn_layer3(x)\n",
    "        x = self.dnn_layer4(x)\n",
    "        x = self.dnn_layer5(x)\n",
    "        x = self.log_softmax(x)\n",
    "        return x"
   ]
  },
  {
   "cell_type": "code",
   "execution_count": 27,
   "metadata": {},
   "outputs": [
    {
     "name": "stdout",
     "output_type": "stream",
     "text": [
      "cpu\n"
     ]
    },
    {
     "data": {
      "text/plain": [
       "NeuralNet(\n",
       "  (dnn_layer1): Sequential(\n",
       "    (0): Linear(in_features=429, out_features=1024, bias=True)\n",
       "    (1): ReLU()\n",
       "    (2): BatchNorm1d(1024, eps=1e-05, momentum=0.05, affine=True, track_running_stats=True)\n",
       "    (3): Dropout(p=0.2, inplace=False)\n",
       "  )\n",
       "  (dnn_layer2): Sequential(\n",
       "    (0): Linear(in_features=1024, out_features=1024, bias=True)\n",
       "    (1): ReLU()\n",
       "    (2): BatchNorm1d(1024, eps=1e-05, momentum=0.05, affine=True, track_running_stats=True)\n",
       "    (3): Dropout(p=0.2, inplace=False)\n",
       "  )\n",
       "  (dnn_layer3): Sequential(\n",
       "    (0): Linear(in_features=1024, out_features=1024, bias=True)\n",
       "    (1): ReLU()\n",
       "    (2): BatchNorm1d(1024, eps=1e-05, momentum=0.05, affine=True, track_running_stats=True)\n",
       "    (3): Dropout(p=0.2, inplace=False)\n",
       "  )\n",
       "  (dnn_layer4): Sequential(\n",
       "    (0): Linear(in_features=1024, out_features=1024, bias=True)\n",
       "    (1): ReLU()\n",
       "    (2): BatchNorm1d(1024, eps=1e-05, momentum=0.05, affine=True, track_running_stats=True)\n",
       "    (3): Dropout(p=0.2, inplace=False)\n",
       "  )\n",
       "  (dnn_layer5): Sequential(\n",
       "    (0): Linear(in_features=1024, out_features=41, bias=True)\n",
       "  )\n",
       "  (log_softmax): LogSoftmax()\n",
       ")"
      ]
     },
     "execution_count": 27,
     "metadata": {},
     "output_type": "execute_result"
    }
   ],
   "source": [
    "device =  'cpu' \n",
    "print(device)\n",
    "model = NeuralNet()\n",
    "model.to(device)"
   ]
  },
  {
   "cell_type": "code",
   "execution_count": 28,
   "metadata": {},
   "outputs": [],
   "source": [
    "ctc_loss = nn.CTCLoss(reduction='sum')\n",
    "learning_rate = 0.001\n",
    "weight_decay = 0.0005\n",
    "optimizer =  optim.Adam(model.parameters(), lr=learning_rate, weight_decay=weight_decay)"
   ]
  },
  {
   "cell_type": "code",
   "execution_count": 29,
   "metadata": {},
   "outputs": [],
   "source": [
    "# to create 429 dimension feature vector \n",
    "def context_window(fea,left,right):\n",
    "    N_row=fea.shape[0]\n",
    "    N_fea=fea.shape[1]\n",
    "    frames = np.empty((N_row-left-right, N_fea*(left+right+1)))\n",
    "    for frame_index in range(left,N_row-right):\n",
    "        right_context=fea[frame_index+1:frame_index+right+1].flatten() # right context\n",
    "        left_context=fea[frame_index-left:frame_index].flatten() # left context\n",
    "        current_frame=np.concatenate([left_context,fea[frame_index],right_context])\n",
    "        frames[frame_index-left]=current_frame\n",
    "    return frames"
   ]
  },
  {
   "cell_type": "code",
   "execution_count": 30,
   "metadata": {},
   "outputs": [],
   "source": [
    "class TimitDataLoader(data.Dataset):\n",
    "    def __init__(self, data_path,label_path):\n",
    "        with open(data_path, 'r') as f:\n",
    "            self.feat_data = f.readlines()\n",
    "        \n",
    "        self.feat_data = [ele.strip().split(\" \") for ele in self.feat_data]\n",
    "        self.feat_dict = {}\n",
    "        \n",
    "        self.utts = []\n",
    "        for row in self.feat_data:\n",
    "            self.utts.append(row[0])\n",
    "            self.feat_dict[row[0]] = row[1:]\n",
    "        \n",
    "        with open(label_path) as f:\n",
    "            self.label_list = f.readlines()\n",
    "\n",
    "        self.label_list = [ele.strip().split(\" \") for ele in self.label_list]\n",
    "        self.label_dict = {}\n",
    "        \n",
    "        for row in self.label_list:\n",
    "            self.label_dict[row[0]] = row[1:]\n",
    "        \n",
    "    def __len__(self):\n",
    "        return len(self.utts)\n",
    "    \n",
    "    def __getitem__(self, index):\n",
    "        \n",
    "        inp_dir = \"./cmvn_delta/\"\n",
    "        utt = self.utts[index]\n",
    "        \n",
    "        #print(utt)\n",
    "        feat_file = inp_dir + self.feat_dict[utt][0]\n",
    "        feats = kaldiio.load_mat(feat_file)\n",
    "        feats = context_window(feats,5,5)\n",
    "        #print(feats.shape)\n",
    "        labels = self.label_dict[utt]\n",
    "        #print(labels)\n",
    "        labels = [class_index_dict[ele] for ele in labels]\n",
    "        \n",
    "        return (torch.from_numpy(feats), torch.LongTensor(labels), utt)"
   ]
  },
  {
   "cell_type": "code",
   "execution_count": 33,
   "metadata": {},
   "outputs": [
    {
     "data": {
      "text/plain": [
       "NeuralNet(\n",
       "  (dnn_layer1): Sequential(\n",
       "    (0): Linear(in_features=429, out_features=1024, bias=True)\n",
       "    (1): ReLU()\n",
       "    (2): BatchNorm1d(1024, eps=1e-05, momentum=0.05, affine=True, track_running_stats=True)\n",
       "    (3): Dropout(p=0.2, inplace=False)\n",
       "  )\n",
       "  (dnn_layer2): Sequential(\n",
       "    (0): Linear(in_features=1024, out_features=1024, bias=True)\n",
       "    (1): ReLU()\n",
       "    (2): BatchNorm1d(1024, eps=1e-05, momentum=0.05, affine=True, track_running_stats=True)\n",
       "    (3): Dropout(p=0.2, inplace=False)\n",
       "  )\n",
       "  (dnn_layer3): Sequential(\n",
       "    (0): Linear(in_features=1024, out_features=1024, bias=True)\n",
       "    (1): ReLU()\n",
       "    (2): BatchNorm1d(1024, eps=1e-05, momentum=0.05, affine=True, track_running_stats=True)\n",
       "    (3): Dropout(p=0.2, inplace=False)\n",
       "  )\n",
       "  (dnn_layer4): Sequential(\n",
       "    (0): Linear(in_features=1024, out_features=1024, bias=True)\n",
       "    (1): ReLU()\n",
       "    (2): BatchNorm1d(1024, eps=1e-05, momentum=0.05, affine=True, track_running_stats=True)\n",
       "    (3): Dropout(p=0.2, inplace=False)\n",
       "  )\n",
       "  (dnn_layer5): Sequential(\n",
       "    (0): Linear(in_features=1024, out_features=41, bias=True)\n",
       "  )\n",
       "  (log_softmax): LogSoftmax()\n",
       ")"
      ]
     },
     "execution_count": 33,
     "metadata": {},
     "output_type": "execute_result"
    }
   ],
   "source": [
    "# load model with best validation accuracy (as obtained from train-dev loss/per curves)\n",
    "out_folder = 'ctc_cmvn_context_size8/'\n",
    "checkpoint = torch.load(out_folder + 'model_ep25.pkl',map_location=device)\n",
    "model.load_state_dict(checkpoint['model_state_dict'])\n",
    "optimizer.load_state_dict(checkpoint['optimizer_state_dict'])\n",
    "epoch = checkpoint['epoch']\n",
    "tr_loss_per_epoch = checkpoint['tr_loss_per_epoch']\n",
    "dev_loss_per_epoch = checkpoint['dev_loss_per_epoch']\n",
    "model.to(device)"
   ]
  },
  {
   "cell_type": "markdown",
   "metadata": {},
   "source": [
    "# Support-set for MN"
   ]
  },
  {
   "cell_type": "code",
   "execution_count": 34,
   "metadata": {},
   "outputs": [],
   "source": [
    "def club_frames_of_a_class(x,y,labels_dict):\n",
    "    for i in range(x.shape[0]): #for every frame in the utterance\n",
    "        if(class_label_dict[y[i].item()] not in labels_dict.keys()):\n",
    "            labels_dict[class_label_dict[y[i].item()]] = list()\n",
    "        labels_dict[class_label_dict[y[i].item()]].append(x[i].data.numpy())  #key:phnid,val: all frames of that phn"
   ]
  },
  {
   "cell_type": "code",
   "execution_count": 35,
   "metadata": {},
   "outputs": [],
   "source": [
    "def prepare_pickle_data(data_generator):\n",
    "    start = timeit.default_timer()    \n",
    "    labels_dict = dict()\n",
    "    #cnt = 0\n",
    "    with torch.no_grad(): \n",
    "        for frames,labels_tensor,uttid in data_generator:\n",
    "            frames = torch.squeeze(frames,0)\n",
    "            frames = frames.to(device)\n",
    "        \n",
    "            target_label_indices = torch.squeeze(labels_tensor,0).tolist()\n",
    "            target_label = [class_label_dict[ele] for ele in target_label_indices]\n",
    "        \n",
    "            posteriors = model(frames.float())\n",
    "            _,ctc_label_indices = torch.max(posteriors.data,1)\n",
    "            ctc_label_indices =  ctc_label_indices.cpu().numpy()\n",
    "            posteriors = posteriors.view(posteriors.shape[0],1,-1)\n",
    "            club_frames_of_a_class(frames,ctc_label_indices,labels_dict)\n",
    "        \n",
    "    end =timeit.default_timer() \n",
    "    print(end-start)\n",
    "    return labels_dict"
   ]
  },
  {
   "cell_type": "code",
   "execution_count": 36,
   "metadata": {},
   "outputs": [
    {
     "name": "stdout",
     "output_type": "stream",
     "text": [
      "252.97169597796164\n"
     ]
    }
   ],
   "source": [
    "# train support-set generation (train_SS)\n",
    "# format - {phonemes : [429-dim mfcc frames] }\n",
    "\n",
    "train_data_path = \"./cmvn_delta/data/train/train.scp\"\n",
    "train_label_path = \"./ctc_labels/train_text\"\n",
    "timit_train_data = TimitDataLoader(train_data_path,train_label_path)\n",
    "\n",
    "training_generator = data.DataLoader(timit_train_data)\n",
    "train_dict = prepare_pickle_data(training_generator)\n",
    "\n",
    "file = open('train_SS_dim429.pkl','wb')\n",
    "pickle.dump(train_dict,file)\n",
    "file.close()"
   ]
  },
  {
   "cell_type": "code",
   "execution_count": 39,
   "metadata": {},
   "outputs": [],
   "source": [
    "#plot shots per phoneme\n",
    "def plot_shots(length_dict):\n",
    "    del length_dict['sil']   #delete 'sil' key and find the maximum shots\n",
    "\n",
    "    length_sorted = sorted(length_dict.items(), key = lambda kv:(kv[1], kv[0]))\n",
    "    phones = []\n",
    "    length = []\n",
    "    for i in length_sorted:\n",
    "        phones.append(i[0])\n",
    "        length.append(i[1])\n",
    "    \n",
    "    fig, ax = plt.subplots(figsize = (20,5))\n",
    "    ax.bar(phones,length,width=0.6)\n",
    "    \n",
    "    for index,data in enumerate(length):\n",
    "        plt.text(x=index , y =data+1 , s=f\"{data}\" , fontdict=dict(fontsize=10))\n",
    "    plt.tight_layout()\n",
    "    plt.show()"
   ]
  },
  {
   "cell_type": "code",
   "execution_count": 40,
   "metadata": {},
   "outputs": [
    {
     "name": "stdout",
     "output_type": "stream",
     "text": [
      "{'sil': 174615, 'blank': 1003986, 'sh': 3660, 'iy': 9704, 'hh': 4602, 'eh': 4057, 'jh': 1438, 'er': 6975, 'd': 4775, 'aa': 8464, 'r': 10815, 'k': 6349, 's': 9942, 'uw': 2924, 'ih': 14812, 'n': 11732, 'g': 2741, 'w': 5294, 'dx': 4478, 'l': 11501, 'y': 2681, 'z': 5052, 'ow': 2191, 'ae': 5543, 'm': 5327, 't': 5384, 'oy': 1309, 'ay': 2954, 'dh': 3705, 'ah': 6702, 'f': 3192, 'b': 2757, 'ch': 1095, 'ey': 3245, 'p': 3504, 'ng': 1695, 'aw': 917, 'th': 705, 'uh': 524, 'v': 2523}\n"
     ]
    },
    {
     "data": {
      "image/png": "[encoded data removed]",
      "text/plain": [
       "<Figure size 1440x360 with 1 Axes>"
      ]
     },
     "metadata": {
      "needs_background": "light"
     },
     "output_type": "display_data"
    }
   ],
   "source": [
    "# no: of shots per class in train SS\n",
    "import pickle\n",
    "with open('train_SS_dim429.pkl','rb') as f1:\n",
    "    T_dict=pickle.load(f1)\n",
    "\n",
    "length_dict = {key: len(value) for key, value in T_dict.items()}\n",
    "print(length_dict)\n",
    "length_dict = {key: len(value) for key, value in T_dict.items()}  \n",
    "del length_dict['blank']   #delete blank key and find the maximum shots \n",
    "plot_shots(length_dict)"
   ]
  },
  {
   "cell_type": "code",
   "execution_count": 41,
   "metadata": {},
   "outputs": [
    {
     "name": "stdout",
     "output_type": "stream",
     "text": [
      "26.256249047000892\n"
     ]
    }
   ],
   "source": [
    "# dev support-set generation  (dev_SS)\n",
    "# format - {phonemes : [429-dim mfcc frames] }\n",
    "\n",
    "dev_data_path = \"./cmvn_delta/data/dev/dev.scp\"\n",
    "dev_json_path = \"./ctc_labels/dev_text\"\n",
    "\n",
    "timit_dev_data = TimitDataLoader(dev_data_path,dev_json_path)\n",
    "\n",
    "validation_generator = data.DataLoader(timit_dev_data)\n",
    "dev_dict = prepare_pickle_data(validation_generator)\n",
    "\n",
    "file = open('dev_SS_dim429.pkl','wb')\n",
    "pickle.dump(dev_dict,file)\n",
    "file.close()"
   ]
  },
  {
   "cell_type": "code",
   "execution_count": 42,
   "metadata": {},
   "outputs": [
    {
     "name": "stdout",
     "output_type": "stream",
     "text": [
      "{'sil': 18719, 'blank': 110070, 'sh': 404, 'iy': 1120, 'hh': 458, 'ae': 568, 'd': 541, 'y': 279, 'er': 817, 'aa': 907, 'r': 1256, 'k': 619, 's': 1089, 't': 571, 'ih': 1612, 'ng': 126, 'g': 274, 'w': 646, 'dx': 415, 'l': 1230, 'aw': 83, 'n': 1192, 'm': 578, 'eh': 458, 'oy': 143, 'ay': 317, 'dh': 384, 'b': 297, 'f': 361, 'uw': 238, 'p': 348, 'ah': 663, 'z': 460, 'v': 268, 'ow': 222, 'jh': 126, 'ch': 96, 'uh': 45, 'ey': 316, 'th': 61}\n"
     ]
    },
    {
     "data": {
      "image/png": "[encoded data removed]",
      "text/plain": [
       "<Figure size 1440x360 with 1 Axes>"
      ]
     },
     "metadata": {
      "needs_background": "light"
     },
     "output_type": "display_data"
    }
   ],
   "source": [
    "# no: of shots per class in train SS\n",
    "import pickle\n",
    "with open('dev_SS_dim429.pkl','rb') as f1:\n",
    "    T_dict=pickle.load(f1)\n",
    "\n",
    "length_dict = {key: len(value) for key, value in T_dict.items()}\n",
    "print(length_dict)\n",
    "length_dict = {key: len(value) for key, value in T_dict.items()}  \n",
    "del length_dict['blank']   #delete blank key and find the maximum shots \n",
    "plot_shots(length_dict)"
   ]
  },
  {
   "cell_type": "code",
   "execution_count": 43,
   "metadata": {},
   "outputs": [
    {
     "name": "stdout",
     "output_type": "stream",
     "text": [
      "12.043702156981453\n"
     ]
    }
   ],
   "source": [
    "# train support-set generation (train_SS)\n",
    "# format - {phonemes : [429-dim mfcc frames] }\n",
    "\n",
    "test_data_path = \"./cmvn_delta/data/test/test.scp\"\n",
    "test_json_path = \"./ctc_labels/test_text\"\n",
    "\n",
    "timit_test_data = TimitDataLoader(test_data_path,test_json_path)\n",
    "\n",
    "testing_generator = data.DataLoader(timit_test_data)\n",
    "\n",
    "test_dict = prepare_pickle_data(testing_generator)\n",
    "\n",
    "file = open('test_SS_dim429.pkl','wb')\n",
    "pickle.dump(test_dict,file)\n",
    "file.close()"
   ]
  },
  {
   "cell_type": "code",
   "execution_count": 44,
   "metadata": {},
   "outputs": [
    {
     "name": "stdout",
     "output_type": "stream",
     "text": [
      "{'sil': 9344, 'blank': 51696, 'sh': 195, 'iy': 503, 'hh': 203, 'ae': 258, 'jh': 74, 'er': 352, 'd': 233, 'aa': 436, 'r': 595, 'k': 275, 's': 523, 'uw': 110, 'ih': 769, 't': 265, 'n': 526, 'g': 127, 'w': 291, 'ah': 353, 'dx': 209, 'l': 546, 'y': 105, 'ow': 108, 'm': 292, 'eh': 208, 'oy': 53, 'ay': 128, 'dh': 181, 'v': 120, 'z': 239, 'p': 175, 'f': 161, 'b': 143, 'ch': 56, 'ey': 157, 'th': 37, 'ng': 79, 'aw': 46, 'uh': 23}\n"
     ]
    },
    {
     "data": {
      "image/png": "[encoded data removed]",
      "text/plain": [
       "<Figure size 1440x360 with 1 Axes>"
      ]
     },
     "metadata": {
      "needs_background": "light"
     },
     "output_type": "display_data"
    }
   ],
   "source": [
    "# no: of shots per class in train SS\n",
    "import pickle\n",
    "with open('test_SS_dim429.pkl','rb') as f1:\n",
    "    T_dict=pickle.load(f1)\n",
    "\n",
    "length_dict = {key: len(value) for key, value in T_dict.items()}\n",
    "print(length_dict)\n",
    "length_dict = {key: len(value) for key, value in T_dict.items()}  \n",
    "del length_dict['blank']   #delete blank key and find the maximum shots \n",
    "plot_shots(length_dict)"
   ]
  },
  {
   "cell_type": "markdown",
   "metadata": {},
   "source": [
    "# Batch/Query set for MN"
   ]
  },
  {
   "cell_type": "code",
   "execution_count": 11,
   "metadata": {},
   "outputs": [],
   "source": [
    "def prepare_pickle_ctc_data(name,label_path,data_path):\n",
    "    start = timeit.default_timer()    \n",
    "    \n",
    "    with open(label_path) as f:\n",
    "        label_list = f.readlines()\n",
    "    \n",
    "    label_list = [ele.strip().split(\" \") for ele in label_list]\n",
    "    label_dict = {}\n",
    "        \n",
    "    for row in label_list:\n",
    "        label_dict[row[0]] = row[1:]\n",
    "    \n",
    "    with open(data_path) as f:\n",
    "        feat_data = f.readlines()\n",
    "        \n",
    "    feat_data = [ele.strip().split(\" \") for ele in feat_data]\n",
    "    feat_dict = {}\n",
    "        \n",
    "    utts = []\n",
    "    for row in feat_data:\n",
    "        utts.append(row[0])\n",
    "        feat_dict[row[0]] = row[1:]\n",
    "        \n",
    "    inp_dir = \"./cmvn_delta/\"\n",
    "    T_test = dict()\n",
    "    for index in range(len(utts)):\n",
    "        utt = utts[index]\n",
    "        \n",
    "        feat_file = inp_dir + feat_dict[utt][0]\n",
    "        feats = kaldiio.load_mat(feat_file)\n",
    "        \n",
    "        labels = label_dict[utt]\n",
    "        labels = [class_index_dict[ele] for ele in labels]\n",
    "        \n",
    "        T_test[utt] = {'feats':feats, 'labels':labels}\n",
    "    filename = name + \"_xz.pkl\"\n",
    "    file = open(filename, 'wb')\n",
    "    pickle.dump(T_test,file)\n",
    "    file.close()\n",
    "    end = timeit.default_timer() "
   ]
  },
  {
   "cell_type": "code",
   "execution_count": 12,
   "metadata": {},
   "outputs": [],
   "source": [
    "# train utterances\n",
    "# format - {utt_id : {'feats': [39-dim MFCC] , 'labels': [ground-truth - sequence of phn indices]}}\n",
    "train_data_path = \"./cmvn_delta/data/train/train.scp\"\n",
    "train_label_path = \"./ctc_labels/train_text\"\n",
    "prepare_pickle_ctc_data('train',train_label_path,train_data_path)"
   ]
  },
  {
   "cell_type": "code",
   "execution_count": 18,
   "metadata": {},
   "outputs": [],
   "source": [
    "# dev utterances\n",
    "# format - {utt_id : {'feats': [39-dim MFCC] , 'labels': [ground-truth - sequence of phn indices]}}\n",
    "dev_data_path = \"./cmvn_delta/data/dev/dev.scp\"\n",
    "dev_label_path = \"./ctc_labels/dev_text\"\n",
    "prepare_pickle_ctc_data('dev',dev_label_path,dev_data_path)"
   ]
  },
  {
   "cell_type": "code",
   "execution_count": 20,
   "metadata": {},
   "outputs": [],
   "source": [
    "# test utetrances\n",
    "# format - {utt_id : {'feats': [39-dim MFCC] , 'labels': [ground-truth - sequence of phn indices]}}\n",
    "test_data_path = \"./cmvn_delta/data/test/test.scp\"\n",
    "test_label_path = \"./ctc_labels/test_text\"\n",
    "prepare_pickle_ctc_data('test',test_label_path,test_data_path)"
   ]
  },
  {
   "cell_type": "code",
   "execution_count": null,
   "metadata": {},
   "outputs": [],
   "source": []
  }
 ],
 "metadata": {
  "kernelspec": {
   "display_name": "Python 3",
   "language": "python",
   "name": "python3"
  },
  "language_info": {
   "codemirror_mode": {
    "name": "ipython",
    "version": 3
   },
   "file_extension": ".py",
   "mimetype": "text/x-python",
   "name": "python",
   "nbconvert_exporter": "python",
   "pygments_lexer": "ipython3",
   "version": "3.8.3"
  }
 },
 "nbformat": 4,
 "nbformat_minor": 4
}
